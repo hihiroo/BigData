{
 "cells": [
  {
   "cell_type": "code",
   "execution_count": 1,
   "metadata": {},
   "outputs": [],
   "source": [
    "import findspark\n",
    "findspark.init()\n",
    "from pyspark import SparkContext"
   ]
  },
  {
   "cell_type": "code",
   "execution_count": 2,
   "metadata": {},
   "outputs": [],
   "source": [
    "sc = SparkContext(\"local\", \"quiz\")\n",
    "import numpy as np "
   ]
  },
  {
   "cell_type": "markdown",
   "metadata": {},
   "source": [
    "### 데이터셋\n",
    "id; age; gender; height; weitht; ap_hi; ap_lo; cholesterol; gluc; smoke; alco; active; cardio\n",
    "\n",
    "(cardio는 클래스, id는 데이터 인덱스)  \n",
    "전체 데이터 중 60%는 학습용, 40%는 검증용으로 분리"
   ]
  },
  {
   "cell_type": "code",
   "execution_count": 3,
   "metadata": {},
   "outputs": [],
   "source": [
    "data = sc.textFile(\"cardio_train.csv\").flatMap(lambda l: l.split('\\n')).map(lambda l: l.split(';'))\n",
    "data = np.array(data.collect()[1:]).astype(np.float)"
   ]
  },
  {
   "cell_type": "code",
   "execution_count": 4,
   "metadata": {},
   "outputs": [],
   "source": [
    "train_ratio = 0.6\n",
    "train_size = int(train_ratio*len(data))\n",
    "valid_size = len(data) - train_size\n",
    "shuffled_idx = np.random.permutation(len(data))"
   ]
  },
  {
   "cell_type": "code",
   "execution_count": 5,
   "metadata": {},
   "outputs": [
    {
     "name": "stdout",
     "output_type": "stream",
     "text": [
      "[[1.8428e-01 1.0000e-05 1.6900e-03 7.1000e-04 1.1000e-03 7.0000e-04\n",
      "  1.0000e-05 1.0000e-05 0.0000e+00 0.0000e+00 1.0000e-05 0.0000e+00]\n",
      " [1.8706e-01 1.0000e-05 1.6900e-03 7.8000e-04 1.3000e-03 9.0000e-04\n",
      "  1.0000e-05 1.0000e-05 0.0000e+00 0.0000e+00 1.0000e-05 0.0000e+00]\n",
      " [1.8366e-01 1.0000e-05 1.6000e-03 7.0000e-04 1.1000e-03 7.0000e-04\n",
      "  1.0000e-05 1.0000e-05 0.0000e+00 0.0000e+00 1.0000e-05 0.0000e+00]]\n"
     ]
    }
   ],
   "source": [
    "train = data[shuffled_idx[:train_size]][:, 1:]*0.00001 # idx 열 제거\n",
    "valid = data[shuffled_idx[train_size:]][:, 1:]*0.00001 # 오버플로우 방지용 범위 조절\n",
    "D = len(train[0])-1 #feature \n",
    "\n",
    "train[:, D] *= 100000\n",
    "valid[:, D] *= 100000\n",
    "\n",
    "train_RDD = sc.parallelize(train)\n",
    "valid_RDD = sc.parallelize(valid)\n",
    "print(train[:3])"
   ]
  },
  {
   "cell_type": "code",
   "execution_count": 9,
   "metadata": {},
   "outputs": [
    {
     "name": "stdout",
     "output_type": "stream",
     "text": [
      "Final w: [ 3.08835783e-01 -8.56544463e-05  2.98906193e+00  3.99785212e+00\n",
      "  6.00035623e+00  5.00516932e+00  8.00007001e+00  1.99997202e+00\n",
      "  6.99999015e+00  8.99999344e+00  9.99992798e+00]\n"
     ]
    }
   ],
   "source": [
    "import math\n",
    "\n",
    "maxIter = 50\n",
    "learning_rate = 0.0001\n",
    "\n",
    "w = np.random.permutation(D).astype(np.float) # 각 feature의 가중치 벡터\n",
    "\n",
    "for _ in range(maxIter):\n",
    "    gradient = train_RDD.map(lambda p: (p[D]-1 / (1+math.exp(-np.dot(w,p[:D]))))*p[:D])\\\n",
    "                    .reduce(lambda a, b: a+b)\n",
    "    w += learning_rate * np.array(gradient)\n",
    "\n",
    "print(\"Final w: {}\".format(w))"
   ]
  },
  {
   "cell_type": "markdown",
   "metadata": {},
   "source": [
    "### 검증\n",
    "\n",
    "학습된 가중치와 검증 데이터셋으로 검증"
   ]
  },
  {
   "cell_type": "code",
   "execution_count": 10,
   "metadata": {},
   "outputs": [
    {
     "name": "stdout",
     "output_type": "stream",
     "text": [
      "accuracy:  0.49867857\n"
     ]
    }
   ],
   "source": [
    "y = valid[:,D]\n",
    "y_pred = list()\n",
    "\n",
    "for v in valid:\n",
    "    y_pred.append(1 / (1 + np.exp(-np.dot(w, v[:D]))))\n",
    "    \n",
    "correct_pred = np.equal(np.round(y_pred), y.astype(np.int64))\n",
    "print(\"accuracy: \", np.mean(correct_pred.astype(np.float32)))"
   ]
  }
 ],
 "metadata": {
  "kernelspec": {
   "display_name": "Python 3",
   "language": "python",
   "name": "python3"
  },
  "language_info": {
   "codemirror_mode": {
    "name": "ipython",
    "version": 3
   },
   "file_extension": ".py",
   "mimetype": "text/x-python",
   "name": "python",
   "nbconvert_exporter": "python",
   "pygments_lexer": "ipython3",
   "version": "3.6.9"
  }
 },
 "nbformat": 4,
 "nbformat_minor": 4
}
