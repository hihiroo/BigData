{
 "cells": [
  {
   "cell_type": "code",
   "execution_count": 1,
   "metadata": {},
   "outputs": [],
   "source": [
    "import csv\n",
    "import numpy as np\n",
    "import matplotlib.pyplot as plt\n",
    "import seaborn as sns\n",
    "import pandas as pd"
   ]
  },
  {
   "cell_type": "markdown",
   "metadata": {},
   "source": [
    "#### 아파트 거래 데이터 로드\n",
    "(지역코드, 법정동, 거래일, 아파트, 지번, 전용면적(m^2), 층, 건축년도, 거래금액(만원))\n",
    "  \n",
    "ex. '31110', '학성동', '5/30/2020 0:00', '남운학성타운', '379', '135.58', '8', '1991', '26700'"
   ]
  },
  {
   "cell_type": "code",
   "execution_count": 2,
   "metadata": {},
   "outputs": [
    {
     "name": "stderr",
     "output_type": "stream",
     "text": [
      "/home/pyspark/.local/lib/python3.6/site-packages/IPython/core/interactiveshell.py:3063: DtypeWarning: Columns (6) have mixed types.Specify dtype option on import or set low_memory=False.\n",
      "  interactivity=interactivity, compiler=compiler, result=result)\n"
     ]
    },
    {
     "name": "stdout",
     "output_type": "stream",
     "text": [
      "          지역코드       법정동                  거래일          아파트      지번      전용면적  \\\n",
      "0        31110       학성동       5/30/2020 0:00       남운학성타운     379  135.5800   \n",
      "1        31110       남외동        1/3/2020 0:00     남외푸르지오1차   506-1  101.6000   \n",
      "2        31110       남외동        1/3/2020 0:00        에일린의뜰     500   84.9920   \n",
      "3        31110       남외동        1/3/2020 0:00     남외푸르지오1차   506-1  118.7060   \n",
      "4        31110       남외동        1/4/2020 0:00     남외푸르지오2차   501-1   84.9636   \n",
      "...        ...       ...                  ...          ...     ...       ...   \n",
      "4315698  50110  애월읍 하귀1리  2021-04-07 00:00:00  제주하귀휴먼시아2단지   166-1   84.8400   \n",
      "4315699  50110   한림읍 한림리  2021-04-06 00:00:00           영신  1530-2   84.8700   \n",
      "4315700  50130       동홍동  2021-03-26 00:00:00       동호아트리움    2196   74.9261   \n",
      "4315701  50130       동홍동  2021-03-29 00:00:00       동홍동코아루     157   60.9375   \n",
      "4315702  50130       동홍동  2021-03-31 00:00:00   주공5차(동홍5차)    1674   39.7900   \n",
      "\n",
      "          층  건축년도   거래금액  \n",
      "0         8  1991  26700  \n",
      "1         2  2006  35500  \n",
      "2        11  2007  36500  \n",
      "3         8  2006  43000  \n",
      "4         7  2007  38700  \n",
      "...      ..   ...    ...  \n",
      "4315698   7  2010  38500  \n",
      "4315699   4  1991  12000  \n",
      "4315700   3  2019  32500  \n",
      "4315701   3  2013  24100  \n",
      "4315702   5  1999  12500  \n",
      "\n",
      "[4315703 rows x 9 columns]\n"
     ]
    }
   ],
   "source": [
    "data = pd.read_csv(\"ApartDeal.csv\")\n",
    "\n",
    "print(data)"
   ]
  },
  {
   "cell_type": "markdown",
   "metadata": {},
   "source": [
    "#### 년도별 거래 평균액\n",
    "\n",
    "거래일 포맷이 'yyyy-mm-dd 00:00:00'과 'mm/dd/yyyy 0:00'으로 두 가지가 있어서 포맷 확인 후 연도 추출"
   ]
  },
  {
   "cell_type": "code",
   "execution_count": 3,
   "metadata": {},
   "outputs": [],
   "source": [
    "years = []\n",
    "for date in data['거래일']:\n",
    "    if date.find('/') != -1:\n",
    "        years.append(int(date.split(' ')[0].split('/')[2]))\n",
    "    else:\n",
    "        years.append(int(date.split(' ')[0].split('-')[0]))\n",
    "\n",
    "# 거래일에서 년도만 추출하여 새로운 column 생성\n",
    "data['거래년도'] = years"
   ]
  },
  {
   "cell_type": "code",
   "execution_count": 4,
   "metadata": {},
   "outputs": [
    {
     "data": {
      "text/html": [
       "<div>\n",
       "<style scoped>\n",
       "    .dataframe tbody tr th:only-of-type {\n",
       "        vertical-align: middle;\n",
       "    }\n",
       "\n",
       "    .dataframe tbody tr th {\n",
       "        vertical-align: top;\n",
       "    }\n",
       "\n",
       "    .dataframe thead th {\n",
       "        text-align: right;\n",
       "    }\n",
       "</style>\n",
       "<table border=\"1\" class=\"dataframe\">\n",
       "  <thead>\n",
       "    <tr style=\"text-align: right;\">\n",
       "      <th></th>\n",
       "      <th>year</th>\n",
       "      <th>Average amount</th>\n",
       "    </tr>\n",
       "  </thead>\n",
       "  <tbody>\n",
       "    <tr>\n",
       "      <th>0</th>\n",
       "      <td>2015</td>\n",
       "      <td>26421.629142</td>\n",
       "    </tr>\n",
       "    <tr>\n",
       "      <th>1</th>\n",
       "      <td>2016</td>\n",
       "      <td>28241.569682</td>\n",
       "    </tr>\n",
       "    <tr>\n",
       "      <th>2</th>\n",
       "      <td>2017</td>\n",
       "      <td>31613.360199</td>\n",
       "    </tr>\n",
       "    <tr>\n",
       "      <th>3</th>\n",
       "      <td>2018</td>\n",
       "      <td>31933.362593</td>\n",
       "    </tr>\n",
       "    <tr>\n",
       "      <th>4</th>\n",
       "      <td>2019</td>\n",
       "      <td>31401.712225</td>\n",
       "    </tr>\n",
       "    <tr>\n",
       "      <th>5</th>\n",
       "      <td>2020</td>\n",
       "      <td>31837.655428</td>\n",
       "    </tr>\n",
       "    <tr>\n",
       "      <th>6</th>\n",
       "      <td>2021</td>\n",
       "      <td>26656.419129</td>\n",
       "    </tr>\n",
       "  </tbody>\n",
       "</table>\n",
       "</div>"
      ],
      "text/plain": [
       "   year  Average amount\n",
       "0  2015    26421.629142\n",
       "1  2016    28241.569682\n",
       "2  2017    31613.360199\n",
       "3  2018    31933.362593\n",
       "4  2019    31401.712225\n",
       "5  2020    31837.655428\n",
       "6  2021    26656.419129"
      ]
     },
     "execution_count": 4,
     "metadata": {},
     "output_type": "execute_result"
    }
   ],
   "source": [
    "byYear = pd.DataFrame(data.groupby(data['거래년도'])['거래금액'].mean()) # 년도별 평균 금액 계산\n",
    "byYear.reset_index(level=['거래년도'], inplace=True)\n",
    "byYear.rename(columns = {'거래금액':'Average amount', '거래년도':'year'}, inplace=True)\n",
    "byYear"
   ]
  },
  {
   "cell_type": "code",
   "execution_count": 5,
   "metadata": {},
   "outputs": [
    {
     "data": {
      "text/plain": [
       "[Text(0, 0.5, 'amount(10000won)')]"
      ]
     },
     "execution_count": 5,
     "metadata": {},
     "output_type": "execute_result"
    },
    {
     "data": {
      "image/png": "[encoded data removed]",
      "text/plain": [
       "<Figure size 432x288 with 1 Axes>"
      ]
     },
     "metadata": {
      "needs_background": "light"
     },
     "output_type": "display_data"
    }
   ],
   "source": [
    "# 기본 막대 그래프\n",
    "bar = sns.barplot(x=\"year\", y=\"Average amount\", data=byYear)\n",
    "bar.set_title('Total apartment transactions by year')\n",
    "bar.set(ylabel=\"amount(10000won)\")"
   ]
  },
  {
   "cell_type": "markdown",
   "metadata": {},
   "source": [
    "#### matplotlib의 annotate 함수를 이용하여 막대 그래프 위에 수치 표시하기\n",
    "\n",
    "plt.annotate(contents, (x, y), style)"
   ]
  },
  {
   "cell_type": "code",
   "execution_count": 6,
   "metadata": {},
   "outputs": [
    {
     "data": {
      "image/png": "[encoded data removed]",
      "text/plain": [
       "<Figure size 432x288 with 1 Axes>"
      ]
     },
     "metadata": {
      "needs_background": "light"
     },
     "output_type": "display_data"
    }
   ],
   "source": [
    "bar = sns.barplot(x=\"year\", y=\"Average amount\", data=byYear)\n",
    "bar.set_title('Total apartment transactions by year')\n",
    "\n",
    "bar.set(xlim=(0,49), ylim=(0,40000), xticks=np.arange(4,49,7), ylabel=\"amount(10000won)\") # 그래프 축 범위, x축 눈금 간격 조정\n",
    "bar.set_xticklabels([i for i in range(2015, 2022)]) # 눈금에 맞춰 x축 label 다시 작성\n",
    "\n",
    "for i, p in enumerate(bar.patches):\n",
    "    p.set_x(i*7+2) # 조정된 눈금만큼 x좌표 이동\n",
    "    p.set_width(p.get_width()*5) # 막대 너비 키우기 \n",
    "    bar.annotate(\"%d\"%p.get_height(), (p.get_x() + p.get_width()/2., p.get_height()+(1e3)), ha='center', fontsize=9)"
   ]
  },
  {
   "cell_type": "markdown",
   "metadata": {},
   "source": [
    "#### 연도별 아파트 금액 분포"
   ]
  },
  {
   "cell_type": "code",
   "execution_count": 11,
   "metadata": {},
   "outputs": [
    {
     "data": {
      "text/html": [
       "<div>\n",
       "<style scoped>\n",
       "    .dataframe tbody tr th:only-of-type {\n",
       "        vertical-align: middle;\n",
       "    }\n",
       "\n",
       "    .dataframe tbody tr th {\n",
       "        vertical-align: top;\n",
       "    }\n",
       "\n",
       "    .dataframe thead th {\n",
       "        text-align: right;\n",
       "    }\n",
       "</style>\n",
       "<table border=\"1\" class=\"dataframe\">\n",
       "  <thead>\n",
       "    <tr style=\"text-align: right;\">\n",
       "      <th></th>\n",
       "      <th>amount</th>\n",
       "      <th>year</th>\n",
       "    </tr>\n",
       "  </thead>\n",
       "  <tbody>\n",
       "    <tr>\n",
       "      <th>0</th>\n",
       "      <td>26700</td>\n",
       "      <td>2020</td>\n",
       "    </tr>\n",
       "    <tr>\n",
       "      <th>1</th>\n",
       "      <td>35500</td>\n",
       "      <td>2020</td>\n",
       "    </tr>\n",
       "    <tr>\n",
       "      <th>2</th>\n",
       "      <td>36500</td>\n",
       "      <td>2020</td>\n",
       "    </tr>\n",
       "    <tr>\n",
       "      <th>3</th>\n",
       "      <td>43000</td>\n",
       "      <td>2020</td>\n",
       "    </tr>\n",
       "    <tr>\n",
       "      <th>4</th>\n",
       "      <td>38700</td>\n",
       "      <td>2020</td>\n",
       "    </tr>\n",
       "    <tr>\n",
       "      <th>...</th>\n",
       "      <td>...</td>\n",
       "      <td>...</td>\n",
       "    </tr>\n",
       "    <tr>\n",
       "      <th>4315698</th>\n",
       "      <td>38500</td>\n",
       "      <td>2021</td>\n",
       "    </tr>\n",
       "    <tr>\n",
       "      <th>4315699</th>\n",
       "      <td>12000</td>\n",
       "      <td>2021</td>\n",
       "    </tr>\n",
       "    <tr>\n",
       "      <th>4315700</th>\n",
       "      <td>32500</td>\n",
       "      <td>2021</td>\n",
       "    </tr>\n",
       "    <tr>\n",
       "      <th>4315701</th>\n",
       "      <td>24100</td>\n",
       "      <td>2021</td>\n",
       "    </tr>\n",
       "    <tr>\n",
       "      <th>4315702</th>\n",
       "      <td>12500</td>\n",
       "      <td>2021</td>\n",
       "    </tr>\n",
       "  </tbody>\n",
       "</table>\n",
       "<p>4315703 rows × 2 columns</p>\n",
       "</div>"
      ],
      "text/plain": [
       "         amount  year\n",
       "0         26700  2020\n",
       "1         35500  2020\n",
       "2         36500  2020\n",
       "3         43000  2020\n",
       "4         38700  2020\n",
       "...         ...   ...\n",
       "4315698   38500  2021\n",
       "4315699   12000  2021\n",
       "4315700   32500  2021\n",
       "4315701   24100  2021\n",
       "4315702   12500  2021\n",
       "\n",
       "[4315703 rows x 2 columns]"
      ]
     },
     "execution_count": 11,
     "metadata": {},
     "output_type": "execute_result"
    }
   ],
   "source": [
    "catdata = pd.DataFrame(data[\"거래금액\"])\n",
    "catdata[\"year\"] = data[\"거래년도\"]\n",
    "catdata.rename(columns = {'거래금액':'amount'}, inplace=True)\n",
    "catdata"
   ]
  },
  {
   "cell_type": "code",
   "execution_count": 12,
   "metadata": {},
   "outputs": [
    {
     "data": {
      "image/png": "[encoded data removed]",
      "text/plain": [
       "<Figure size 360x360 with 1 Axes>"
      ]
     },
     "metadata": {
      "needs_background": "light"
     },
     "output_type": "display_data"
    }
   ],
   "source": [
    "cat = sns.catplot(x=\"year\", y=\"amount\", jitter=False, data=catdata)"
   ]
  },
  {
   "cell_type": "code",
   "execution_count": 13,
   "metadata": {},
   "outputs": [
    {
     "data": {
      "image/png": "[encoded data removed]",
      "text/plain": [
       "<Figure size 360x360 with 1 Axes>"
      ]
     },
     "metadata": {
      "needs_background": "light"
     },
     "output_type": "display_data"
    }
   ],
   "source": [
    "# 가격별 분포를 더 직관적으로 보기 위한 박스형 분포 그래프\n",
    "diamonds = sns.catplot(x=\"year\", y=\"amount\", kind=\"boxen\", data=catdata)"
   ]
  },
  {
   "cell_type": "code",
   "execution_count": 14,
   "metadata": {},
   "outputs": [
    {
     "data": {
      "text/plain": [
       "<seaborn.axisgrid.FacetGrid at 0x7f2f75f94ef0>"
      ]
     },
     "execution_count": 14,
     "metadata": {},
     "output_type": "execute_result"
    },
    {
     "data": {
      "image/png": "[encoded data removed]",
      "text/plain": [
       "<Figure size 360x360 with 1 Axes>"
      ]
     },
     "metadata": {
      "needs_background": "light"
     },
     "output_type": "display_data"
    }
   ],
   "source": [
    "# 평균과 분포를 함께 보기 위한 박스형 분포 그래프\n",
    "sns.catplot(x=\"year\", y=\"amount\",kind=\"box\", dodge=False, data=catdata)"
   ]
  },
  {
   "cell_type": "code",
   "execution_count": null,
   "metadata": {},
   "outputs": [],
   "source": []
  }
 ],
 "metadata": {
  "kernelspec": {
   "display_name": "Python 3",
   "language": "python",
   "name": "python3"
  },
  "language_info": {
   "codemirror_mode": {
    "name": "ipython",
    "version": 3
   },
   "file_extension": ".py",
   "mimetype": "text/x-python",
   "name": "python",
   "nbconvert_exporter": "python",
   "pygments_lexer": "ipython3",
   "version": "3.6.9"
  }
 },
 "nbformat": 4,
 "nbformat_minor": 4
}
