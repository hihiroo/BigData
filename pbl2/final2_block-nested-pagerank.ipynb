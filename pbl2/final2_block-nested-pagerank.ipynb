{
 "cells": [
  {
   "cell_type": "code",
   "execution_count": 1,
   "metadata": {},
   "outputs": [],
   "source": [
    "# To find out where the pyspark\n",
    "import findspark\n",
    "findspark.init()"
   ]
  },
  {
   "cell_type": "code",
   "execution_count": 2,
   "metadata": {},
   "outputs": [],
   "source": [
    "# Creating Spark Context\n",
    "from pyspark import SparkContext, SparkConf\n",
    "\n",
    "conf = (SparkConf()\n",
    "         .setMaster(\"local\")\n",
    "         .setAppName(\"pbl-2\")\n",
    "         .set(\"spark.executor.cores\", \"4\")) # 코어 수\n",
    "\n",
    "sc = SparkContext(conf = conf)"
   ]
  },
  {
   "cell_type": "code",
   "execution_count": 3,
   "metadata": {},
   "outputs": [],
   "source": [
    "import matplotlib.pyplot as plt\n",
    "import numpy as np\n",
    "import math\n",
    "import time"
   ]
  },
  {
   "cell_type": "markdown",
   "metadata": {},
   "source": [
    "#### 데이터셋 생성 및 변수 정의\n",
    "\n",
    "(Destination, (Outdegree of Source, Source)) 맵핑"
   ]
  },
  {
   "cell_type": "code",
   "execution_count": 4,
   "metadata": {},
   "outputs": [
    {
     "name": "stdout",
     "output_type": "stream",
     "text": [
      "[('137', (3, 0)), ('781', (3, 0)), ('1', (3, 0))]\n"
     ]
    }
   ],
   "source": [
    "data = sc.textFile(\"test_dataset.txt\").flatMap(lambda file: file.split('\\n')).map(lambda line: line.split(' '))\n",
    "N = data.count()\n",
    "data = data.flatMap(lambda line: [(i, (len(line[1:]), int(line[0]))) for i in line[1:]])\n",
    "\n",
    "block = [16, 8, 4, 2, 1]\n",
    "maxIter = 20\n",
    "execution_time = []\n",
    "\n",
    "print(data.take(3))"
   ]
  },
  {
   "cell_type": "code",
   "execution_count": 5,
   "metadata": {},
   "outputs": [],
   "source": [
    "def pr_red(partition_data, block_size):\n",
    "    new_pr = np.zeros(block_size) + 1.5/N\n",
    "    block_id = -1\n",
    "    \n",
    "    for link in partition_data:\n",
    "        dest = int(link[0])\n",
    "        outdegree, source = link[1]\n",
    "        block_id = dest // block_size\n",
    "        new_pr[dest % block_size] += pr.value[source] / outdegree\n",
    "        \n",
    "    for x in range(block_id*block_size, min(N, (block_id+1)*block_size)):\n",
    "        yield (x, new_pr[x])"
   ]
  },
  {
   "cell_type": "markdown",
   "metadata": {},
   "source": [
    "#### Block Based Page Rank Calculation\n",
    "\n",
    "1. destination node id의 범위에 따라 블록 개수만큼 파티션을 나눠준다.\n",
    "  \n",
    "  \n",
    "2. 각 파티션별로 Page Rank를 계산한다.\n",
    "  \n",
    "  \n",
    "3. 모든 파티션의 Page Rank를 합친다."
   ]
  },
  {
   "cell_type": "code",
   "execution_count": 8,
   "metadata": {},
   "outputs": [
    {
     "name": "stdout",
     "output_type": "stream",
     "text": [
      "the number of blocks: 16\n",
      "duration: 79.81592845916748\n",
      "\n",
      "the number of blocks: 8\n",
      "duration: 63.307430267333984\n",
      "\n",
      "the number of blocks: 4\n",
      "duration: 56.5703125\n",
      "\n",
      "the number of blocks: 2\n",
      "duration: 52.89344239234924\n",
      "\n",
      "the number of blocks: 1\n",
      "duration: 49.15682792663574\n",
      "\n"
     ]
    }
   ],
   "source": [
    "for block_cnt in block: # block의 개수를 바꿔가며 실행\n",
    "    start = time.time()\n",
    "    \n",
    "    pr = sc.broadcast([ 1. / float(N) for _ in range(N) ]) \n",
    "    block_size = (N // block_cnt) if N % block_cnt != 0 else (N // block_cnt)+1\n",
    "        \n",
    "    for _ in range(maxIter):\n",
    "        itr = data.partitionBy(block_cnt, lambda x: int(x[0]) // block_size)\\\n",
    "                    .map(lambda x: (int(x[0]), pr.value[x[1][1]] / x[1][0])).reduceByKey(lambda x, y: x+y).collect()\n",
    "        \n",
    "        new_pr = np.zeros(N) + 1.5/N\n",
    "        for element in itr: new_pr[element[0]] += element[1]\n",
    "\n",
    "        pr = sc.broadcast(new_pr)\n",
    "        \n",
    "    end = time.time()\n",
    "    execution_time.append(end-start)\n",
    "\n",
    "    print(\"the number of blocks: {}\".format(block_cnt))\n",
    "    print(\"duration: {}\".format(end-start))\n",
    "    print()"
   ]
  },
  {
   "cell_type": "markdown",
   "metadata": {},
   "source": [
    "#### 그래프"
   ]
  },
  {
   "cell_type": "code",
   "execution_count": 9,
   "metadata": {},
   "outputs": [
    {
     "data": {
      "image/png": "[encoded data removed]",
      "text/plain": [
       "<Figure size 432x288 with 1 Axes>"
      ]
     },
     "metadata": {
      "needs_background": "light"
     },
     "output_type": "display_data"
    }
   ],
   "source": [
    "plt.plot(block, execution_time, marker = 'o')\n",
    "\n",
    "plt.xlabel(\"Number of blocks\")\n",
    "plt.ylabel(\"Execution time\")\n",
    "\n",
    "plt.yscale('log')\n",
    "plt.show()"
   ]
  },
  {
   "cell_type": "code",
   "execution_count": null,
   "metadata": {},
   "outputs": [],
   "source": []
  }
 ],
 "metadata": {
  "kernelspec": {
   "display_name": "Python 3",
   "language": "python",
   "name": "python3"
  },
  "language_info": {
   "codemirror_mode": {
    "name": "ipython",
    "version": 3
   },
   "file_extension": ".py",
   "mimetype": "text/x-python",
   "name": "python",
   "nbconvert_exporter": "python",
   "pygments_lexer": "ipython3",
   "version": "3.6.9"
  }
 },
 "nbformat": 4,
 "nbformat_minor": 4
}
