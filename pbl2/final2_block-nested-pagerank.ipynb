{
 "cells": [
  {
   "cell_type": "code",
   "execution_count": 1,
   "metadata": {},
   "outputs": [],
   "source": [
    "# To find out where the pyspark\n",
    "import findspark\n",
    "findspark.init()"
   ]
  },
  {
   "cell_type": "code",
   "execution_count": 2,
   "metadata": {},
   "outputs": [],
   "source": [
    "# Creating Spark Context\n",
    "from pyspark import SparkContext, SparkConf\n",
    "\n",
    "conf = (SparkConf()\n",
    "         .setMaster(\"local\")\n",
    "         .setAppName(\"pbl-2\")\n",
    "         .set(\"spark.executor.cores\", \"4\")) # 코어 수\n",
    "\n",
    "sc = SparkContext(conf = conf)"
   ]
  },
  {
   "cell_type": "code",
   "execution_count": 3,
   "metadata": {},
   "outputs": [],
   "source": [
    "import matplotlib.pyplot as plt\n",
    "import numpy as np\n",
    "import math\n",
    "import time"
   ]
  },
  {
   "cell_type": "markdown",
   "metadata": {},
   "source": [
    "#### 데이터셋 생성 및 변수 정의"
   ]
  },
  {
   "cell_type": "code",
   "execution_count": 4,
   "metadata": {},
   "outputs": [],
   "source": [
    "block = [16, 8, 4, 2, 1]\n",
    "maxIter = 20\n",
    "repeat = 5\n",
    "execution_time = []\n",
    "\n",
    "data = sc.textFile(\"test_dataset.txt\").flatMap(lambda file: file.split('\\n')).map(lambda line: line.split(' '))\\\n",
    "        .map(lambda line: (int(line[0]),[int(i) for i in line[1:]]))\n",
    "\n",
    "N = data.count()"
   ]
  },
  {
   "cell_type": "markdown",
   "metadata": {},
   "source": [
    "#### Destination의 id에 따라 블럭 지정\n",
    "\n",
    "(block_id, (destination node id, pr(source)/outdegree))로 매핑"
   ]
  },
  {
   "cell_type": "code",
   "execution_count": 5,
   "metadata": {},
   "outputs": [],
   "source": [
    "def pr_map(dataset, block_size):\n",
    "    source = dataset[0]\n",
    "    outdegree = len(dataset[1])\n",
    "    \n",
    "    for dest in dataset[1]:\n",
    "        block_id = dest // block_size\n",
    "        yield(block_id, (dest, (pr.value[source] / outdegree)))"
   ]
  },
  {
   "cell_type": "markdown",
   "metadata": {},
   "source": [
    "#### Page Rank 값 업데이트\n",
    "\n",
    "(destination node id, new page rank of destination node)"
   ]
  },
  {
   "cell_type": "code",
   "execution_count": 6,
   "metadata": {},
   "outputs": [],
   "source": [
    "def pr_red(dataset, block_size, N):\n",
    "    \n",
    "    block_id, it = dataset\n",
    "    \n",
    "    sum_of_ratio = [0 for i in range(block_size)]\n",
    "    pr = [0 for i in range(block_size)]\n",
    "    \n",
    "    for dest, ratio in it:\n",
    "        sum_of_ratio[dest//block_size] += ratio\n",
    "\n",
    "    for block_idx in range(block_size):\n",
    "        i = block_idx + block_id * block_size\n",
    "        pr[block_idx] = (0.85 * sum_of_ratio[block_idx]) + (1 / N * (1 - 0.85))\n",
    "        yield((i, pr[block_idx]))"
   ]
  },
  {
   "cell_type": "markdown",
   "metadata": {},
   "source": [
    "#### Block Based Page Rank Calculation\n",
    "\n",
    "dest id를 기준으로 블록을 나누고 블록끼리 분산&병렬 처리해준다.\n"
   ]
  },
  {
   "cell_type": "code",
   "execution_count": 7,
   "metadata": {},
   "outputs": [
    {
     "name": "stdout",
     "output_type": "stream",
     "text": [
      "the number of blocks: 16\n",
      "average duration for 5 times: 28.740951251983642\n",
      "\n",
      "the number of blocks: 8\n",
      "average duration for 5 times: 27.31389708518982\n",
      "\n",
      "the number of blocks: 4\n",
      "average duration for 5 times: 25.903746461868288\n",
      "\n",
      "the number of blocks: 2\n",
      "average duration for 5 times: 26.255461931228638\n",
      "\n",
      "the number of blocks: 1\n",
      "average duration for 5 times: 27.889938592910767\n",
      "\n"
     ]
    }
   ],
   "source": [
    "for block_cnt in block:\n",
    "    sum_time = 0\n",
    "    \n",
    "    for _ in range(repeat):\n",
    "        start = time.time()\n",
    "        block_size = N // block_cnt\n",
    "        if N % block_cnt != 0 : block_size += 1\n",
    "\n",
    "        pr = sc.broadcast([ 1. / float(N) for _ in range(N) ])\n",
    "\n",
    "        for _ in range (maxIter):\n",
    "            itr = data.flatMap(lambda t: pr_map(t, block_size)).groupByKey()\\\n",
    "                .flatMap(lambda t: pr_red(t, block_size, N)).map(lambda v: v[1]).collect()\n",
    "            pr = sc.broadcast(itr)\n",
    "\n",
    "        end = time.time()\n",
    "        sum_time += end-start\n",
    "        \n",
    "    execution_time.append(sum_time/repeat)\n",
    "\n",
    "    print(\"the number of blocks: {}\".format(block_cnt))\n",
    "    print(\"average duration for {} times: {}\".format(repeat, sum_time/repeat))\n",
    "    print()"
   ]
  },
  {
   "cell_type": "markdown",
   "metadata": {},
   "source": [
    "#### 그래프"
   ]
  },
  {
   "cell_type": "code",
   "execution_count": 8,
   "metadata": {},
   "outputs": [
    {
     "data": {
      "image/png": "[encoded data removed]",
      "text/plain": [
       "<Figure size 432x288 with 1 Axes>"
      ]
     },
     "metadata": {
      "needs_background": "light"
     },
     "output_type": "display_data"
    }
   ],
   "source": [
    "plt.plot(block, execution_time, marker = 'o')\n",
    "\n",
    "plt.xlabel(\"Number of blocks\")\n",
    "plt.ylabel(\"Execution time\")\n",
    "\n",
    "plt.yscale('log')\n",
    "plt.show()"
   ]
  },
  {
   "cell_type": "code",
   "execution_count": null,
   "metadata": {},
   "outputs": [],
   "source": []
  }
 ],
 "metadata": {
  "kernelspec": {
   "display_name": "Python 3",
   "language": "python",
   "name": "python3"
  },
  "language_info": {
   "codemirror_mode": {
    "name": "ipython",
    "version": 3
   },
   "file_extension": ".py",
   "mimetype": "text/x-python",
   "name": "python",
   "nbconvert_exporter": "python",
   "pygments_lexer": "ipython3",
   "version": "3.6.9"
  }
 },
 "nbformat": 4,
 "nbformat_minor": 4
}
