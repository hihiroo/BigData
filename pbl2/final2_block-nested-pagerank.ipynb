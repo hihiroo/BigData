{
 "cells": [
  {
   "cell_type": "code",
   "execution_count": 1,
   "metadata": {},
   "outputs": [],
   "source": [
    "# To find out where the pyspark\n",
    "import findspark\n",
    "findspark.init()"
   ]
  },
  {
   "cell_type": "code",
   "execution_count": 2,
   "metadata": {},
   "outputs": [],
   "source": [
    "# Creating Spark Context\n",
    "from pyspark import SparkContext, SparkConf\n",
    "\n",
    "conf = (SparkConf()\n",
    "         .setMaster(\"local\")\n",
    "         .setAppName(\"pbl-2\")\n",
    "         .set(\"spark.executor.cores\", \"4\")) # 코어 수\n",
    "\n",
    "sc = SparkContext(conf = conf)"
   ]
  },
  {
   "cell_type": "code",
   "execution_count": 3,
   "metadata": {},
   "outputs": [],
   "source": [
    "import matplotlib.pyplot as plt\n",
    "import numpy as np\n",
    "import math\n",
    "import time"
   ]
  },
  {
   "cell_type": "markdown",
   "metadata": {},
   "source": [
    "#### 데이터셋 생성 및 변수 정의\n",
    "\n",
    "(source, destination set) 맵핑"
   ]
  },
  {
   "cell_type": "code",
   "execution_count": 4,
   "metadata": {},
   "outputs": [
    {
     "name": "stdout",
     "output_type": "stream",
     "text": [
      "[(0, [137, 781, 1]), (1, [64, 2]), (2, [867, 1, 2, 3])]\n"
     ]
    }
   ],
   "source": [
    "data = sc.textFile(\"test_dataset.txt\").flatMap(lambda file: file.split('\\n')).map(lambda line: line.split(' '))\\\n",
    "            .map(lambda line: (int(line[0]), [int(i) for i in line[1:]]))\n",
    "N = data.count()\n",
    "\n",
    "block = [16, 8, 4, 2, 1]\n",
    "maxIter = 20\n",
    "core = 4\n",
    "execution_time = []\n",
    "\n",
    "print(data.take(3))"
   ]
  },
  {
   "cell_type": "markdown",
   "metadata": {},
   "source": [
    "#### 블록 단위로 Link Structure 구축\n",
    "\n",
    "(block id, (source, destination set)) 맵핑"
   ]
  },
  {
   "cell_type": "code",
   "execution_count": 5,
   "metadata": {},
   "outputs": [],
   "source": [
    "def make_link_set(dest_set, block_cnt, block_size):\n",
    "    source = dest_set[0]\n",
    "    block_based_dest_set = [(source, []) for i in range(block_cnt)]\n",
    "    \n",
    "    for dest in dest_set[1]:\n",
    "        block_based_dest_set[dest // block_size][1].append(dest)\n",
    "        \n",
    "    for i in range(block_cnt):\n",
    "        if len(block_based_dest_set[i][1]) != 0: \n",
    "            yield (i,block_based_dest_set[i])"
   ]
  },
  {
   "cell_type": "markdown",
   "metadata": {},
   "source": []
  },
  {
   "cell_type": "code",
   "execution_count": 6,
   "metadata": {},
   "outputs": [],
   "source": [
    "def pr_map(block_data, block_size, N):\n",
    "    block_id, link_sets = block_data\n",
    "    new_sr = np.zeros(block_size) + 1.5/N\n",
    "    \n",
    "    for link_set in link_sets:\n",
    "        source, dest_set = link_set\n",
    "        val = pr.value[source] / len(dest_set)\n",
    "\n",
    "        for dest in dest_set:\n",
    "            new_sr[dest // block_size] += val\n",
    "        \n",
    "    yield new_sr.tolist()"
   ]
  },
  {
   "cell_type": "markdown",
   "metadata": {},
   "source": [
    "#### Block Based Page Rank Calculation\n",
    "\n",
    "1. destination node id의 범위에 따라 블록 개수만큼 파티션을 나눠준다.\n",
    "  \n",
    "  \n",
    "2. 각 파티션별로 Page Rank를 계산한다.\n",
    "  \n",
    "  \n",
    "3. 모든 파티션의 Page Rank를 합친다."
   ]
  },
  {
   "cell_type": "code",
   "execution_count": 7,
   "metadata": {},
   "outputs": [
    {
     "name": "stdout",
     "output_type": "stream",
     "text": [
      "the number of blocks: 16\n",
      "duration: 10.784173488616943\n",
      "\n",
      "the number of blocks: 8\n",
      "duration: 8.530853986740112\n",
      "\n",
      "the number of blocks: 4\n",
      "duration: 7.650415897369385\n",
      "\n",
      "the number of blocks: 2\n",
      "duration: 7.556777000427246\n",
      "\n",
      "the number of blocks: 1\n",
      "duration: 7.0680251121521\n",
      "\n"
     ]
    }
   ],
   "source": [
    "for block_cnt in block: # block의 개수를 바꿔가며 실행\n",
    "    start = time.time()\n",
    "    \n",
    "    pr = sc.broadcast([ 1. / float(N) for _ in range(N) ]) \n",
    "    block_size = (N // block_cnt) if N % block_cnt != 0 else (N // block_cnt)+1\n",
    "    \n",
    "    # source별 destination set을 블록 구간에 따라 분리함\n",
    "    block_based_set = data.flatMap(lambda s: make_link_set(s, block_cnt, block_size)).groupByKey()\n",
    "    \n",
    "    for _ in range(maxIter):\n",
    "        itr = block_based_set.flatMap(lambda b: pr_map(b, block_size, N)).reduce(lambda x,y : x+y)\n",
    "        pr = sc.broadcast(itr)\n",
    "    \n",
    "    end = time.time()\n",
    "    execution_time.append(end-start)\n",
    "\n",
    "    print(\"the number of blocks: {}\".format(block_cnt))\n",
    "    print(\"duration: {}\".format(end-start))\n",
    "    print()"
   ]
  },
  {
   "cell_type": "markdown",
   "metadata": {},
   "source": [
    "#### 그래프"
   ]
  },
  {
   "cell_type": "code",
   "execution_count": 8,
   "metadata": {},
   "outputs": [
    {
     "data": {
      "image/png": "[encoded data removed]",
      "text/plain": [
       "<Figure size 432x288 with 1 Axes>"
      ]
     },
     "metadata": {
      "needs_background": "light"
     },
     "output_type": "display_data"
    }
   ],
   "source": [
    "plt.plot(block, execution_time, marker = 'o')\n",
    "\n",
    "plt.xlabel(\"Number of blocks\")\n",
    "plt.ylabel(\"Execution time\")\n",
    "\n",
    "plt.yscale('log')\n",
    "plt.show()"
   ]
  }
 ],
 "metadata": {
  "kernelspec": {
   "display_name": "Python 3",
   "language": "python",
   "name": "python3"
  },
  "language_info": {
   "codemirror_mode": {
    "name": "ipython",
    "version": 3
   },
   "file_extension": ".py",
   "mimetype": "text/x-python",
   "name": "python",
   "nbconvert_exporter": "python",
   "pygments_lexer": "ipython3",
   "version": "3.6.9"
  }
 },
 "nbformat": 4,
 "nbformat_minor": 4
}
