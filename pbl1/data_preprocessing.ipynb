{
 "cells": [
  {
   "cell_type": "code",
   "execution_count": 1,
   "source": [
    "import findspark\r\n",
    "findspark.init()"
   ],
   "outputs": [],
   "metadata": {}
  },
  {
   "cell_type": "code",
   "execution_count": 2,
   "source": [
    "from pyspark import SparkContext\r\n",
    "from pyspark.sql import SQLContext, SparkSession\r\n",
    "\r\n",
    "sc = SparkContext(\"local\", \"pbl-1\")\r\n",
    "spark = SparkSession(sc)"
   ],
   "outputs": [],
   "metadata": {}
  },
  {
   "cell_type": "code",
   "execution_count": 3,
   "source": [
    "data = sc.textFile(\"facebook_combined.txt\")\r\n",
    "\r\n",
    "parse_data = data.flatMap(lambda line: line.split('\\n')) \\\r\n",
    "            .map(lambda l:l.split(' ')).map(lambda l: [(int(l[0]),int(l[1])),(int(l[1]),int(l[0]))]).flatMap(lambda t: [t[0],t[1]])"
   ],
   "outputs": [],
   "metadata": {}
  },
  {
   "cell_type": "code",
   "execution_count": 4,
   "source": [
    "group = parse_data.groupByKey().mapValues(list)\r\n",
    "new_group = group.flatMap(lambda l: [(l[0],(len(l[1]), sorted(l[1])))])\r\n",
    "#print(new_group.collect())"
   ],
   "outputs": [],
   "metadata": {}
  },
  {
   "cell_type": "code",
   "execution_count": 5,
   "source": [
    "order = new_group.sortBy(lambda v: v[1])\r\n",
    "R = order.mapValues(lambda v: v[1]).collect()\r\n",
    "#print(R)"
   ],
   "outputs": [],
   "metadata": {}
  }
 ],
 "metadata": {
  "kernelspec": {
   "display_name": "Python 3",
   "language": "python",
   "name": "python3"
  },
  "language_info": {
   "codemirror_mode": {
    "name": "ipython",
    "version": 3
   },
   "file_extension": ".py",
   "mimetype": "text/x-python",
   "name": "python",
   "nbconvert_exporter": "python",
   "pygments_lexer": "ipython3",
   "version": "3.6.9"
  }
 },
 "nbformat": 4,
 "nbformat_minor": 4
}