{
 "cells": [
  {
   "cell_type": "code",
   "execution_count": 2,
   "metadata": {},
   "outputs": [],
   "source": [
    "import findspark\n",
    "findspark.init()\n",
    "from pyspark import SparkContext\n",
    "from pyspark.sql import SQLContext, SparkSession\n",
    "\n",
    "sc = SparkContext(\"local\", \"week6\")\n",
    "spark = SparkSession(sc)"
   ]
  },
  {
   "cell_type": "code",
   "execution_count": 3,
   "metadata": {},
   "outputs": [],
   "source": [
    "def create_setdata(ss):\n",
    "    record = set()\n",
    "    for i in ss:\n",
    "        if i not in record:\n",
    "            record.add(i)\n",
    "        else:\n",
    "            yield record\n",
    "            record = set()\n",
    "    if not record:\n",
    "        yield record"
   ]
  },
  {
   "cell_type": "code",
   "execution_count": 4,
   "metadata": {},
   "outputs": [],
   "source": [
    "def create_dataset(N):\n",
    "    while True:\n",
    "        s = np.random.default_rng().zipf(1.2, N*10*10)\n",
    "        dataset = list(create_setdata(s[s<N]))\n",
    "        if len(dataset) >= N:\n",
    "            break\n",
    "            \n",
    "    ids = range(N)\n",
    "    return [(i,s) for i, s in zip(ids, dataset[:N])]"
   ]
  },
  {
   "cell_type": "code",
   "execution_count": 20,
   "metadata": {},
   "outputs": [],
   "source": [
    "testcaseN = [1000, 2000, 4000, 8000, 16000]\n",
    "execute_time = []\n",
    "\n",
    "import time\n",
    "import numpy as np\n",
    "\n",
    "for N in testcaseN:\n",
    "    start = time.time()\n",
    "    \n",
    "    pr = sc.broadcast([1./float(N) for _ in range(N)])\n",
    "    \n",
    "    dataset = create_dataset(N)\n",
    "    inputRDD = sc.parallelize(dataset).cache()\n",
    "\n",
    "    for iterNo in range(50):\n",
    "        itr = inputRDD.flatMap(lambda t:[(target, pr.value[t[0]]/len(t[1])) for target in t[1]])\n",
    "        itr = inputRDD.map(lambda t: (t[0],0)).union(itr).reduceByKey(lambda x,y:x+y).mapValues(lambda v: 0.85*v + 1/N * (1-0.85)).cache()\n",
    "        \n",
    "        pr = sc.broadcast(itr.map(lambda t:t[1]).collect())\n",
    "    \n",
    "    end = time.time()\n",
    "    execute_time.append(end-start)"
   ]
  },
  {
   "cell_type": "code",
   "execution_count": 21,
   "metadata": {},
   "outputs": [
    {
     "data": {
      "image/png": "[encoded data removed]",
      "text/plain": [
       "<Figure size 432x288 with 1 Axes>"
      ]
     },
     "metadata": {
      "needs_background": "light"
     },
     "output_type": "display_data"
    }
   ],
   "source": [
    "import matplotlib.pyplot as plt\n",
    "\n",
    "plt.plot(execute_time, testcaseN, linestyle='-', marker='o')\n",
    "plt.show()"
   ]
  },
  {
   "cell_type": "code",
   "execution_count": null,
   "metadata": {},
   "outputs": [],
   "source": []
  }
 ],
 "metadata": {
  "kernelspec": {
   "display_name": "Python 3",
   "language": "python",
   "name": "python3"
  },
  "language_info": {
   "codemirror_mode": {
    "name": "ipython",
    "version": 3
   },
   "file_extension": ".py",
   "mimetype": "text/x-python",
   "name": "python",
   "nbconvert_exporter": "python",
   "pygments_lexer": "ipython3",
   "version": "3.6.9"
  }
 },
 "nbformat": 4,
 "nbformat_minor": 4
}
